{
 "cells": [
  {
   "cell_type": "markdown",
   "metadata": {},
   "source": [
    "# Mine-內多一loop\n",
    "# 因為swap的方向錯誤，code都是讓大的element往right靠，而swap的方向也是從left到right\n",
    "# 正確的是: code都是讓大的element往right靠，而swap的方向是從right到left => 可以多swap到最left的pair"
   ]
  },
  {
   "cell_type": "code",
   "execution_count": 1,
   "metadata": {},
   "outputs": [],
   "source": [
    "def shell_sort(arr):\n",
    "    \n",
    "    gap = len(arr) // 2\n",
    "    \n",
    "    while gap > 0:\n",
    "    \n",
    "        for i in range(0, gap):\n",
    "        \n",
    "            k = i\n",
    "        \n",
    "            for j in range(0, (len(arr) // (i + gap))):     # Ex: arr = [7,5,3] => 1st run: [5,7,3] => 2nd run: [5,3,7]\n",
    "                                                            # 沒有此行，就會stop => 少一次swap => 為了last swap而多一for loop\n",
    "                while i + gap < len(arr):\n",
    "                \n",
    "                    if arr[i] > arr[i+gap]:\n",
    "                    \n",
    "                        arr[i], arr[i+gap] = arr[i+gap], arr[i]\n",
    "            \n",
    "                    i = i + gap\n",
    "                \n",
    "                i = k\n",
    "                \n",
    "        gap = gap // 2\n",
    "    \n",
    "    return arr"
   ]
  },
  {
   "cell_type": "code",
   "execution_count": 2,
   "metadata": {},
   "outputs": [
    {
     "data": {
      "text/plain": [
       "[2, 4, 6, 7, 21, 23, 24, 45, 45, 67, 90]"
      ]
     },
     "execution_count": 2,
     "metadata": {},
     "output_type": "execute_result"
    }
   ],
   "source": [
    "arr = [45,67,23,45,21,24,7,2,6,4,90]\n",
    "\n",
    "shell_sort(arr)"
   ]
  },
  {
   "cell_type": "markdown",
   "metadata": {},
   "source": [
    "# Mine-modified"
   ]
  },
  {
   "cell_type": "code",
   "execution_count": 3,
   "metadata": {},
   "outputs": [],
   "source": [
    "def shell_sort(arr):\n",
    "    \n",
    "    gap = len(arr) // 2\n",
    "    \n",
    "    while gap > 0:\n",
    "    \n",
    "        for i in range(gap, len(arr)):\n",
    "        \n",
    "            while i > 0 and arr[i-gap] > arr[i]:\n",
    "                    \n",
    "                arr[i], arr[i-gap] = arr[i-gap], arr[i]\n",
    "            \n",
    "                i = i - gap\n",
    "                \n",
    "        gap = gap // 2\n",
    "    \n",
    "    return arr"
   ]
  },
  {
   "cell_type": "code",
   "execution_count": 4,
   "metadata": {},
   "outputs": [
    {
     "data": {
      "text/plain": [
       "[2, 4, 6, 7, 21, 23, 24, 45, 45, 67, 90]"
      ]
     },
     "execution_count": 4,
     "metadata": {},
     "output_type": "execute_result"
    }
   ],
   "source": [
    "arr = [45,67,23,45,21,24,7,2,6,4,90]\n",
    "\n",
    "shell_sort(arr)"
   ]
  },
  {
   "cell_type": "markdown",
   "metadata": {},
   "source": [
    "# Instructor"
   ]
  },
  {
   "cell_type": "code",
   "execution_count": 14,
   "metadata": {},
   "outputs": [],
   "source": [
    "def shell_sort(arr):\n",
    "    \n",
    "    gap = len(arr) // 2                            #決定gap => convention: 用len(arr)//2\n",
    "                                                   # Ex: arr = [45,67,23,46,21] => gap = 2\n",
    "    # While we still have sub lists\n",
    "    while gap > 0:                                 # gap要 > 0，因為底下有 gap // 2\n",
    "        \n",
    "        for start in range(gap):                   # gap是2 => 找bubble組的起點 => (arr[0],arr[2],arr[4])的arr[0]   &   \n",
    "                                                   # (arr[1], arr[3])的arr[1]            \n",
    "            # Use a gap insertion\n",
    "            gap_insertion_sort(arr, start, gap)    #進行bubble組內的insertion sort\n",
    "            \n",
    "        #print (\"After decrement of gap: \", sublistcount)\n",
    "        #print (\"arr is \", arr)\n",
    "\n",
    "        gap = gap // 2                             # run完 gap = 2 後 => run gap = 1 => gap = 1就等於normal inserion sort \n",
    "        \n",
    "    return arr\n",
    "\n",
    "def gap_insertion_sort(arr, start, gap):\n",
    "    \n",
    "    for i in range(start+gap, len(arr), gap):      # 1st run => start = 0 => gap = 2 => range(2,5,2) => 也就是從arr[2]到arr[4]，\n",
    "                                                   #然後以2為間距跳 => i = 2 & 4\n",
    "                                                   # 2nd run => start = 1 => gap = 2 => range(3,5,2) => 也就是從arr[3]到arr[4]，\n",
    "                                                   #然後以2為間距跳 => i = 3\n",
    "        currentvalue = arr[i]                      #先處理(arr[0],arr[2])   &   (arr[0],arr[2],arr[4])  再處理(arr[1], arr[3])\n",
    "                                                   #的insertion sort\n",
    "                                                   # 3rd run (gap = 1) => start = 0 => gap = 1 => range(1,5,1) => 也就是從arr[1]\n",
    "                                                   #到arr[4]，然後以1為間距跳 => i = 1 & 2 & 3 & 4          \n",
    "        # Using the Gap\n",
    "        while i >= gap and arr[i-gap] > currentvalue:    # i >= gap => 是因為後面的 arr[i-gap]    &     arr[i-gap] > currentvalue\n",
    "                                                         #是判斷insertion sort\n",
    "            \n",
    "            arr[i] = arr[i-gap]\n",
    "            i = i-gap\n",
    "        \n",
    "        # Set current value\n",
    "        arr[i] = currentvalue"
   ]
  },
  {
   "cell_type": "code",
   "execution_count": 15,
   "metadata": {},
   "outputs": [
    {
     "data": {
      "text/plain": [
       "[2, 4, 6, 7, 21, 23, 24, 45, 45, 67, 90]"
      ]
     },
     "execution_count": 15,
     "metadata": {},
     "output_type": "execute_result"
    }
   ],
   "source": [
    "arr = [45,67,23,45,21,24,7,2,6,4,90]\n",
    "shell_sort(arr)"
   ]
  },
  {
   "cell_type": "markdown",
   "metadata": {},
   "source": [
    "# clear solution"
   ]
  },
  {
   "cell_type": "code",
   "execution_count": null,
   "metadata": {},
   "outputs": [],
   "source": [
    "def shellSort(arr): \n",
    "\n",
    "    gap = len(arr) // 2                                      #決定gap => convention: 用len(arr)//2\n",
    "                                                             # Ex: arr = [45,67,23,46,21] => gap = 2\n",
    "    while gap > 0:                                           # gap要 > 0，因為底下有 gap // 2\n",
    "  \n",
    "        for i in range(gap, len(arr)):                       # i = 2 & 3 & 4 => 從gap開始，直接找出所有bubble sets的起點，\n",
    "                                                             #因為gap以下的element一定有後續的 i - gap可以達到\n",
    "                                                             # => 直接依序處理(arr[0],arr[2])  &   (arr[1], arr[3])   &   \n",
    "                                                             # (arr[0],arr[2],arr[4])的insertion sort\n",
    "                                                             # => 不是處理完(arr[0],arr[2])   &   (arr[0],arr[2],arr[4])  \n",
    "                                                             #再處理(arr[1], arr[3])\n",
    "                                                             # 我的看法: coding比較直接，但是可能與bubble組的logic的順序不一樣 \n",
    "                                                             # => 但是結果一樣，所以沒差\n",
    "                                                             #最後處理gap = 1\n",
    "            currentvalue = arr[i] \n",
    "            \n",
    "            while  i >= gap and arr[i-gap] > currentvalue:   # i >= gap => 是因為後面的 arr[i-gap]    &     \n",
    "                                                             # arr[i-gap] > currentvalue是判斷insertion sort\n",
    "                \n",
    "                arr[i] = arr[i-gap] \n",
    "                i = i - gap \n",
    "\n",
    "            arr[i] = currentvalue \n",
    "            \n",
    "        gap = gap // 2\n",
    "    \n",
    "    return arr\n",
    "        \n",
    "arr = [45,67,23,46,21]\n",
    "print (shellSort(arr))"
   ]
  }
 ],
 "metadata": {
  "kernelspec": {
   "display_name": "Python 3",
   "language": "python",
   "name": "python3"
  },
  "language_info": {
   "codemirror_mode": {
    "name": "ipython",
    "version": 3
   },
   "file_extension": ".py",
   "mimetype": "text/x-python",
   "name": "python",
   "nbconvert_exporter": "python",
   "pygments_lexer": "ipython3",
   "version": "3.7.3"
  }
 },
 "nbformat": 4,
 "nbformat_minor": 2
}
